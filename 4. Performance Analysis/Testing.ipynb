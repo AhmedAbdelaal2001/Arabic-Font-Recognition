{
 "cells": [
  {
   "cell_type": "markdown",
   "metadata": {},
   "source": [
    "## 🧪 🤖 Final Testing"
   ]
  },
  {
   "cell_type": "markdown",
   "metadata": {},
   "source": [
    "We will now proceed to the test dataset that we have ignored throughout the previous sections. \n",
    "We shall use our trained KMeans model for feature extraction using SIFT + BoVW, as well as our trained SVM classifier with a quadratic kernel.\n",
    "We have 4 folders: data0, data1, data2, and data3; data0 contains around 200 unseen images belonging exclusively to class 0 (IBM Plex Sans Arabic), data1 contains around 200 unseen images belonging exclusively to class 1 (Lemonada), and so on..."
   ]
  },
  {
   "cell_type": "markdown",
   "metadata": {},
   "source": [
    "To that end, let's import the necessary modules"
   ]
  },
  {
   "cell_type": "code",
   "execution_count": 25,
   "metadata": {},
   "outputs": [],
   "source": [
    "import joblib\n",
    "from sklearn.metrics import accuracy_score, classification_report\n",
    "import numpy as np"
   ]
  },
  {
   "cell_type": "code",
   "execution_count": 2,
   "metadata": {},
   "outputs": [],
   "source": [
    "import sys\n",
    "import os\n",
    "\n",
    "# Add the directory to the Python path\n",
    "directory = os.path.abspath('../1. Preprocessing')\n",
    "if directory not in sys.path:\n",
    "    sys.path.append(directory)\n",
    "\n",
    "from DataPreprocessor import DataPreprocessor"
   ]
  },
  {
   "cell_type": "code",
   "execution_count": 3,
   "metadata": {},
   "outputs": [],
   "source": [
    "import sys\n",
    "import os\n",
    "\n",
    "# Add the directory to the Python path\n",
    "directory = os.path.abspath('../2. Feature Selection & Extraction')\n",
    "if directory not in sys.path:\n",
    "    sys.path.append(directory)\n",
    "\n",
    "from FeatureExtraction import FeatureExtraction"
   ]
  },
  {
   "cell_type": "markdown",
   "metadata": {},
   "source": [
    "Now, let's load our model:"
   ]
  },
  {
   "cell_type": "code",
   "execution_count": 4,
   "metadata": {},
   "outputs": [],
   "source": [
    "kmeans = joblib.load(\"kmeans2.pkl\")\n",
    "svm_model = joblib.load(\"final_model.pkl\")"
   ]
  },
  {
   "cell_type": "code",
   "execution_count": 5,
   "metadata": {},
   "outputs": [],
   "source": [
    "dataset_processor = DataPreprocessor()\n",
    "feature_extractor = FeatureExtraction(kmeans)"
   ]
  },
  {
   "cell_type": "markdown",
   "metadata": {},
   "source": [
    "### 😎  Put on your Tester Goggles:"
   ]
  },
  {
   "cell_type": "code",
   "execution_count": 6,
   "metadata": {},
   "outputs": [],
   "source": [
    "test_data0 = dataset_processor.preprocess_test_data(\"../data0\")\n",
    "test_data0 = feature_extractor.extract_features(test_data0)\n",
    "pred_data0 = svm_model.predict(test_data0)"
   ]
  },
  {
   "cell_type": "code",
   "execution_count": 7,
   "metadata": {},
   "outputs": [],
   "source": [
    "test_data1 = dataset_processor.preprocess_test_data(\"../data1\")\n",
    "test_data1 = feature_extractor.extract_features(test_data1)\n",
    "pred_data1 = svm_model.predict(test_data1)"
   ]
  },
  {
   "cell_type": "code",
   "execution_count": 8,
   "metadata": {},
   "outputs": [],
   "source": [
    "test_data2 = dataset_processor.preprocess_test_data(\"../data2\")\n",
    "test_data2 = feature_extractor.extract_features(test_data2)\n",
    "pred_data2 = svm_model.predict(test_data2)"
   ]
  },
  {
   "cell_type": "code",
   "execution_count": 9,
   "metadata": {},
   "outputs": [],
   "source": [
    "test_data3 = dataset_processor.preprocess_test_data(\"../data3\")\n",
    "test_data3 = feature_extractor.extract_features(test_data3)\n",
    "pred_data3 = svm_model.predict(test_data3)"
   ]
  },
  {
   "cell_type": "code",
   "execution_count": 24,
   "metadata": {},
   "outputs": [],
   "source": [
    "true_data0 = np.full(pred_data0.shape, 0)\n",
    "true_data1 = np.full(pred_data1.shape, 1)\n",
    "true_data2 = np.full(pred_data2.shape, 2)\n",
    "true_data3 = np.full(pred_data3.shape, 3)"
   ]
  },
  {
   "cell_type": "code",
   "execution_count": 28,
   "metadata": {},
   "outputs": [],
   "source": [
    "concatenated_pred_data = np.concatenate((pred_data0, pred_data1, pred_data2, pred_data3))\n",
    "concatenated_true_data = np.concatenate((true_data0, true_data1, true_data2, true_data3))"
   ]
  },
  {
   "cell_type": "markdown",
   "metadata": {},
   "source": [
    "## 🙃 Moment of Truth"
   ]
  },
  {
   "cell_type": "code",
   "execution_count": 19,
   "metadata": {},
   "outputs": [
    {
     "data": {
      "text/plain": [
       "0"
      ]
     },
     "execution_count": 19,
     "metadata": {},
     "output_type": "execute_result"
    }
   ],
   "source": [
    "np.sum(pred_data0 != 0)"
   ]
  },
  {
   "cell_type": "markdown",
   "metadata": {},
   "source": [
    "<img src=\"https://media1.tenor.com/m/QxqYH15_UxYAAAAd/wow-omg.gif\" width=\"250\">"
   ]
  },
  {
   "cell_type": "code",
   "execution_count": 20,
   "metadata": {},
   "outputs": [
    {
     "data": {
      "text/plain": [
       "0"
      ]
     },
     "execution_count": 20,
     "metadata": {},
     "output_type": "execute_result"
    }
   ],
   "source": [
    "np.sum(pred_data1 != 1)"
   ]
  },
  {
   "cell_type": "markdown",
   "metadata": {},
   "source": [
    "<img src=\"https://media1.tenor.com/m/QxqYH15_UxYAAAAd/wow-omg.gif\" width=\"250\">"
   ]
  },
  {
   "cell_type": "code",
   "execution_count": 21,
   "metadata": {},
   "outputs": [
    {
     "data": {
      "text/plain": [
       "0"
      ]
     },
     "execution_count": 21,
     "metadata": {},
     "output_type": "execute_result"
    }
   ],
   "source": [
    "np.sum(pred_data2 != 2)"
   ]
  },
  {
   "cell_type": "markdown",
   "metadata": {},
   "source": [
    "<img src=\"https://media1.tenor.com/m/QxqYH15_UxYAAAAd/wow-omg.gif\" width=\"250\">"
   ]
  },
  {
   "cell_type": "code",
   "execution_count": 22,
   "metadata": {},
   "outputs": [
    {
     "data": {
      "text/plain": [
       "2"
      ]
     },
     "execution_count": 22,
     "metadata": {},
     "output_type": "execute_result"
    }
   ],
   "source": [
    "np.sum(pred_data3 != 3)"
   ]
  },
  {
   "cell_type": "markdown",
   "metadata": {},
   "source": [
    "<img src=\"https://media1.tenor.com/m/AFKVFcP5to8AAAAd/julesmaru-really.gif\" width=\"250\"/>"
   ]
  },
  {
   "cell_type": "markdown",
   "metadata": {},
   "source": [
    "So close, yet so far away :("
   ]
  },
  {
   "cell_type": "markdown",
   "metadata": {},
   "source": [
    "Seriously though, the model has achieved an incredible level of accuracy; only 2 incorrect classifications over a total of 800 testing examples.\n",
    "As such, its final accuracy is as follows:"
   ]
  },
  {
   "cell_type": "code",
   "execution_count": 23,
   "metadata": {},
   "outputs": [
    {
     "data": {
      "text/plain": [
       "'99.75%'"
      ]
     },
     "execution_count": 23,
     "metadata": {},
     "output_type": "execute_result"
    }
   ],
   "source": [
    "f\"{798/8}%\""
   ]
  },
  {
   "cell_type": "markdown",
   "metadata": {},
   "source": [
    "Let's look at the classification report"
   ]
  },
  {
   "cell_type": "code",
   "execution_count": 31,
   "metadata": {},
   "outputs": [
    {
     "name": "stdout",
     "output_type": "stream",
     "text": [
      "Classification Report on the Testing Data:\n",
      "               precision    recall  f1-score   support\n",
      "\n",
      "           0       1.00      1.00      1.00       200\n",
      "           1       1.00      1.00      1.00       199\n",
      "           2       1.00      1.00      1.00       200\n",
      "           3       1.00      0.99      0.99       200\n",
      "\n",
      "    accuracy                           1.00       799\n",
      "   macro avg       1.00      1.00      1.00       799\n",
      "weighted avg       1.00      1.00      1.00       799\n",
      "\n"
     ]
    }
   ],
   "source": [
    "print(f\"Classification Report on the Testing Data:\\n\", classification_report(concatenated_true_data, concatenated_pred_data))"
   ]
  },
  {
   "cell_type": "markdown",
   "metadata": {},
   "source": [
    "The results are quite wonderful; there is an issue only with the recall of class 3; just as expected, since there were misclassifications in class 3 only. As such, we can say with confidence that our final model is done, and is ready for deployment!!!!!!!!!!!!!!!!!!!!!!"
   ]
  },
  {
   "cell_type": "markdown",
   "metadata": {},
   "source": []
  }
 ],
 "metadata": {
  "kernelspec": {
   "display_name": "base",
   "language": "python",
   "name": "python3"
  },
  "language_info": {
   "codemirror_mode": {
    "name": "ipython",
    "version": 3
   },
   "file_extension": ".py",
   "mimetype": "text/x-python",
   "name": "python",
   "nbconvert_exporter": "python",
   "pygments_lexer": "ipython3",
   "version": "3.11.5"
  }
 },
 "nbformat": 4,
 "nbformat_minor": 2
}
