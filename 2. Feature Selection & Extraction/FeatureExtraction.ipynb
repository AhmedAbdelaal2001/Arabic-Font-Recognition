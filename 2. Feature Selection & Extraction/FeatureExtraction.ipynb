{
 "cells": [
  {
   "cell_type": "code",
   "execution_count": 1,
   "metadata": {},
   "outputs": [],
   "source": [
    "import numpy as np\n",
    "import pandas as pd\n",
    "from sklearn.linear_model import LogisticRegression\n",
    "from sklearn.discriminant_analysis import LinearDiscriminantAnalysis, QuadraticDiscriminantAnalysis\n",
    "from sklearn.tree import DecisionTreeClassifier\n",
    "from sklearn import svm\n",
    "from sklearn.metrics import classification_report\n",
    "from sklearn.preprocessing import MinMaxScaler"
   ]
  },
  {
   "cell_type": "code",
   "execution_count": 2,
   "metadata": {},
   "outputs": [],
   "source": [
    "# Load the data from the file, assuming no missing values but using genfromtxt for its flexibility\n",
    "data = np.genfromtxt(\"BoVW_features_training.csv\", delimiter=\",\")\n",
    "\n",
    "# Splitting into features and target variable\n",
    "X_train_BoVW = data[:, :-1]\n",
    "y_train_BoVW = data[:, -1]"
   ]
  },
  {
   "cell_type": "code",
   "execution_count": 3,
   "metadata": {},
   "outputs": [],
   "source": [
    "# Load the data from the file, assuming no missing values but using genfromtxt for its flexibility\n",
    "data = np.genfromtxt(\"BoVW_features_validation.csv\", delimiter=\",\")\n",
    "\n",
    "# Splitting into features and target variable\n",
    "X_val_BoVW = data[:, :-1]\n",
    "y_val_BoVW = data[:, -1]"
   ]
  },
  {
   "cell_type": "code",
   "execution_count": 4,
   "metadata": {},
   "outputs": [],
   "source": [
    "# Load the data from the file, assuming no missing values but using genfromtxt for its flexibility\n",
    "data = np.genfromtxt(\"Gabor_features_training.csv\", delimiter=\",\")\n",
    "\n",
    "# Splitting into features and target variable\n",
    "X_train_Gabor = data[:, :-1]\n",
    "y_train_Gabor = data[:, -1]"
   ]
  },
  {
   "cell_type": "code",
   "execution_count": 5,
   "metadata": {},
   "outputs": [],
   "source": [
    "# Load the data from the file, assuming no missing values but using genfromtxt for its flexibility\n",
    "data = np.genfromtxt(\"Gabor_features_validation.csv\", delimiter=\",\")\n",
    "\n",
    "# Splitting into features and target variable\n",
    "X_val_Gabor = data[:, :-1]\n",
    "y_val_Gabor = data[:, -1]"
   ]
  },
  {
   "cell_type": "code",
   "execution_count": 6,
   "metadata": {},
   "outputs": [],
   "source": [
    "# Load the data from the file, assuming no missing values but using genfromtxt for its flexibility\n",
    "data = np.genfromtxt(\"Laws_features_training.csv\", delimiter=\",\")\n",
    "\n",
    "# Splitting into features and target variable\n",
    "X_train_Laws = data[:, :-1]\n",
    "y_train_Laws = data[:, -1]"
   ]
  },
  {
   "cell_type": "code",
   "execution_count": 7,
   "metadata": {},
   "outputs": [],
   "source": [
    "# Load the data from the file, assuming no missing values but using genfromtxt for its flexibility\n",
    "data = np.genfromtxt(\"Laws_features_validation.csv\", delimiter=\",\")\n",
    "\n",
    "# Splitting into features and target variable\n",
    "X_val_Laws = data[:, :-1]\n",
    "y_val_Laws = data[:, -1]"
   ]
  },
  {
   "cell_type": "code",
   "execution_count": 8,
   "metadata": {},
   "outputs": [
    {
     "data": {
      "text/plain": [
       "(2397, 212)"
      ]
     },
     "execution_count": 8,
     "metadata": {},
     "output_type": "execute_result"
    }
   ],
   "source": [
    "# Concatenate the feature vectors horizontally\n",
    "X_train = np.concatenate((X_train_BoVW, X_train_Gabor), axis=1)\n",
    "X_train = np.concatenate((X_train, X_train_Laws), axis=1)\n",
    "y_train = y_train_BoVW \n",
    "scaler = MinMaxScaler()\n",
    "X_train_normalized = scaler.fit_transform(X_train)\n",
    "X_train_normalized.shape"
   ]
  },
  {
   "cell_type": "code",
   "execution_count": 9,
   "metadata": {},
   "outputs": [],
   "source": [
    "# Remove highly correlated features\n",
    "def remove_highly_correlated_features(X, threshold=0.95):\n",
    "    corr_matrix = pd.DataFrame(X).corr().abs()\n",
    "    upper = corr_matrix.where(np.triu(np.ones(corr_matrix.shape), k=1).astype(bool))\n",
    "    to_drop = [column for column in upper.columns if any(upper[column] > threshold)]\n",
    "    X_reduced = np.delete(X, to_drop, axis=1)\n",
    "    return X_reduced, to_drop"
   ]
  },
  {
   "cell_type": "code",
   "execution_count": 10,
   "metadata": {},
   "outputs": [],
   "source": [
    "X_train_reduced, dropped_features = remove_highly_correlated_features(X_train_normalized)"
   ]
  },
  {
   "cell_type": "code",
   "execution_count": 11,
   "metadata": {},
   "outputs": [
    {
     "data": {
      "text/plain": [
       "(2397, 212)"
      ]
     },
     "execution_count": 11,
     "metadata": {},
     "output_type": "execute_result"
    }
   ],
   "source": [
    "X_train.shape"
   ]
  },
  {
   "cell_type": "code",
   "execution_count": 12,
   "metadata": {},
   "outputs": [
    {
     "name": "stderr",
     "output_type": "stream",
     "text": [
      "c:\\Users\\Abdelaal\\anaconda3\\Lib\\site-packages\\sklearn\\linear_model\\_logistic.py:460: ConvergenceWarning: lbfgs failed to converge (status=1):\n",
      "STOP: TOTAL NO. of ITERATIONS REACHED LIMIT.\n",
      "\n",
      "Increase the number of iterations (max_iter) or scale the data as shown in:\n",
      "    https://scikit-learn.org/stable/modules/preprocessing.html\n",
      "Please also refer to the documentation for alternative solver options:\n",
      "    https://scikit-learn.org/stable/modules/linear_model.html#logistic-regression\n",
      "  n_iter_i = _check_optimize_result(\n"
     ]
    },
    {
     "name": "stdout",
     "output_type": "stream",
     "text": [
      "Classification Report on Logistic Regression:\n",
      "               precision    recall  f1-score   support\n",
      "\n",
      "         0.0       1.00      1.00      1.00       603\n",
      "         1.0       1.00      1.00      1.00       571\n",
      "         2.0       1.00      1.00      1.00       596\n",
      "         3.0       1.00      1.00      1.00       627\n",
      "\n",
      "    accuracy                           1.00      2397\n",
      "   macro avg       1.00      1.00      1.00      2397\n",
      "weighted avg       1.00      1.00      1.00      2397\n",
      "\n",
      "Classification Report on LDA:\n",
      "               precision    recall  f1-score   support\n",
      "\n",
      "         0.0       1.00      1.00      1.00       603\n",
      "         1.0       1.00      1.00      1.00       571\n",
      "         2.0       0.99      1.00      1.00       596\n",
      "         3.0       1.00      1.00      1.00       627\n",
      "\n",
      "    accuracy                           1.00      2397\n",
      "   macro avg       1.00      1.00      1.00      2397\n",
      "weighted avg       1.00      1.00      1.00      2397\n",
      "\n",
      "Classification Report on QDA:\n",
      "               precision    recall  f1-score   support\n",
      "\n",
      "         0.0       1.00      1.00      1.00       603\n",
      "         1.0       1.00      1.00      1.00       571\n",
      "         2.0       1.00      1.00      1.00       596\n",
      "         3.0       1.00      1.00      1.00       627\n",
      "\n",
      "    accuracy                           1.00      2397\n",
      "   macro avg       1.00      1.00      1.00      2397\n",
      "weighted avg       1.00      1.00      1.00      2397\n",
      "\n",
      "Classification Report on SVM:\n",
      "               precision    recall  f1-score   support\n",
      "\n",
      "         0.0       1.00      1.00      1.00       603\n",
      "         1.0       1.00      1.00      1.00       571\n",
      "         2.0       1.00      1.00      1.00       596\n",
      "         3.0       1.00      1.00      1.00       627\n",
      "\n",
      "    accuracy                           1.00      2397\n",
      "   macro avg       1.00      1.00      1.00      2397\n",
      "weighted avg       1.00      1.00      1.00      2397\n",
      "\n",
      "Classification Report on Decision Tree:\n",
      "               precision    recall  f1-score   support\n",
      "\n",
      "         0.0       1.00      1.00      1.00       603\n",
      "         1.0       1.00      1.00      1.00       571\n",
      "         2.0       1.00      1.00      1.00       596\n",
      "         3.0       1.00      1.00      1.00       627\n",
      "\n",
      "    accuracy                           1.00      2397\n",
      "   macro avg       1.00      1.00      1.00      2397\n",
      "weighted avg       1.00      1.00      1.00      2397\n",
      "\n"
     ]
    }
   ],
   "source": [
    "# Define the classifiers\n",
    "classifiers = {\n",
    "    \"Logistic Regression\": LogisticRegression(),\n",
    "    \"LDA\": LinearDiscriminantAnalysis(),\n",
    "    \"QDA\": QuadraticDiscriminantAnalysis(),\n",
    "    \"SVM\": svm.SVC(kernel='linear'),\n",
    "    \"Decision Tree\": DecisionTreeClassifier()\n",
    "}\n",
    "\n",
    "# Train and test each classifier\n",
    "for name, clf in classifiers.items():\n",
    "    # Train the classifier\n",
    "    clf.fit(X_train_reduced, y_train)\n",
    "    \n",
    "    # Predict on the training data\n",
    "    y_train_pred = clf.predict(X_train_reduced)\n",
    "    \n",
    "    # Calculate and print the result statistics\n",
    "    print(f\"Classification Report on {name}:\\n\", classification_report(y_train, y_train_pred))"
   ]
  },
  {
   "cell_type": "code",
   "execution_count": 13,
   "metadata": {},
   "outputs": [],
   "source": [
    "# Concatenate the feature vectors horizontally\n",
    "X_val = np.concatenate((X_val_BoVW, X_val_Gabor), axis=1)\n",
    "X_val = np.concatenate((X_val, X_val_Laws), axis=1)\n",
    "y_val = y_val_BoVW \n",
    "X_val_normalized = scaler.transform(X_val)\n",
    "X_val_reduced = np.delete(X_val_normalized, dropped_features, axis=1)"
   ]
  },
  {
   "cell_type": "code",
   "execution_count": 14,
   "metadata": {},
   "outputs": [
    {
     "data": {
      "text/plain": [
       "(800, 212)"
      ]
     },
     "execution_count": 14,
     "metadata": {},
     "output_type": "execute_result"
    }
   ],
   "source": [
    "X_val.shape"
   ]
  },
  {
   "cell_type": "code",
   "execution_count": 15,
   "metadata": {},
   "outputs": [
    {
     "data": {
      "text/plain": [
       "(800, 134)"
      ]
     },
     "execution_count": 15,
     "metadata": {},
     "output_type": "execute_result"
    }
   ],
   "source": [
    "X_val_reduced.shape"
   ]
  },
  {
   "cell_type": "code",
   "execution_count": 16,
   "metadata": {},
   "outputs": [
    {
     "name": "stdout",
     "output_type": "stream",
     "text": [
      "Classification Report on Logistic Regression:\n",
      "               precision    recall  f1-score   support\n",
      "\n",
      "         0.0       0.99      1.00      1.00       181\n",
      "         1.0       1.00      1.00      1.00       212\n",
      "         2.0       0.99      1.00      0.99       215\n",
      "         3.0       1.00      0.98      0.99       192\n",
      "\n",
      "    accuracy                           0.99       800\n",
      "   macro avg       1.00      0.99      1.00       800\n",
      "weighted avg       1.00      0.99      0.99       800\n",
      "\n",
      "Classification Report on LDA:\n",
      "               precision    recall  f1-score   support\n",
      "\n",
      "         0.0       0.99      1.00      1.00       181\n",
      "         1.0       1.00      1.00      1.00       212\n",
      "         2.0       0.99      1.00      0.99       215\n",
      "         3.0       1.00      0.99      0.99       192\n",
      "\n",
      "    accuracy                           1.00       800\n",
      "   macro avg       1.00      1.00      1.00       800\n",
      "weighted avg       1.00      1.00      1.00       800\n",
      "\n",
      "Classification Report on QDA:\n",
      "               precision    recall  f1-score   support\n",
      "\n",
      "         0.0       0.99      1.00      0.99       181\n",
      "         1.0       1.00      1.00      1.00       212\n",
      "         2.0       0.99      0.99      0.99       215\n",
      "         3.0       0.99      0.98      0.99       192\n",
      "\n",
      "    accuracy                           0.99       800\n",
      "   macro avg       0.99      0.99      0.99       800\n",
      "weighted avg       0.99      0.99      0.99       800\n",
      "\n",
      "Classification Report on SVM:\n",
      "               precision    recall  f1-score   support\n",
      "\n",
      "         0.0       0.99      1.00      1.00       181\n",
      "         1.0       1.00      1.00      1.00       212\n",
      "         2.0       0.99      1.00      0.99       215\n",
      "         3.0       1.00      0.99      0.99       192\n",
      "\n",
      "    accuracy                           1.00       800\n",
      "   macro avg       1.00      1.00      1.00       800\n",
      "weighted avg       1.00      1.00      1.00       800\n",
      "\n",
      "Classification Report on Decision Tree:\n",
      "               precision    recall  f1-score   support\n",
      "\n",
      "         0.0       0.96      0.97      0.97       181\n",
      "         1.0       0.99      0.99      0.99       212\n",
      "         2.0       0.95      0.93      0.94       215\n",
      "         3.0       0.92      0.93      0.93       192\n",
      "\n",
      "    accuracy                           0.96       800\n",
      "   macro avg       0.96      0.96      0.96       800\n",
      "weighted avg       0.96      0.96      0.96       800\n",
      "\n"
     ]
    }
   ],
   "source": [
    "# Train and test each classifier\n",
    "for name, clf in classifiers.items():    \n",
    "    # Predict on the training data\n",
    "    y_val_pred = clf.predict(X_val_reduced)\n",
    "    \n",
    "    # Calculate and print the result statistics\n",
    "    print(f\"Classification Report on {name}:\\n\", classification_report(y_val, y_val_pred))"
   ]
  },
  {
   "cell_type": "code",
   "execution_count": 17,
   "metadata": {},
   "outputs": [
    {
     "data": {
      "text/plain": [
       "[56,\n",
       " 97,\n",
       " 115,\n",
       " 116,\n",
       " 117,\n",
       " 120,\n",
       " 122,\n",
       " 123,\n",
       " 124,\n",
       " 126,\n",
       " 128,\n",
       " 129,\n",
       " 134,\n",
       " 135,\n",
       " 136,\n",
       " 138,\n",
       " 139,\n",
       " 140,\n",
       " 141,\n",
       " 142,\n",
       " 144,\n",
       " 146,\n",
       " 147,\n",
       " 148,\n",
       " 150,\n",
       " 151,\n",
       " 152,\n",
       " 153,\n",
       " 159,\n",
       " 160,\n",
       " 164,\n",
       " 165,\n",
       " 166,\n",
       " 167,\n",
       " 168,\n",
       " 169,\n",
       " 170,\n",
       " 171,\n",
       " 172,\n",
       " 173,\n",
       " 174,\n",
       " 175,\n",
       " 176,\n",
       " 177,\n",
       " 178,\n",
       " 179,\n",
       " 180,\n",
       " 181,\n",
       " 182,\n",
       " 183,\n",
       " 184,\n",
       " 185,\n",
       " 186,\n",
       " 187,\n",
       " 188,\n",
       " 189,\n",
       " 190,\n",
       " 191,\n",
       " 192,\n",
       " 193,\n",
       " 194,\n",
       " 195,\n",
       " 196,\n",
       " 197,\n",
       " 198,\n",
       " 199,\n",
       " 200,\n",
       " 201,\n",
       " 202,\n",
       " 203,\n",
       " 204,\n",
       " 205,\n",
       " 206,\n",
       " 207,\n",
       " 208,\n",
       " 209,\n",
       " 210,\n",
       " 211]"
      ]
     },
     "execution_count": 17,
     "metadata": {},
     "output_type": "execute_result"
    }
   ],
   "source": [
    "dropped_features"
   ]
  },
  {
   "cell_type": "code",
   "execution_count": 18,
   "metadata": {},
   "outputs": [
    {
     "data": {
      "text/plain": [
       "(2397, 112)"
      ]
     },
     "execution_count": 18,
     "metadata": {},
     "output_type": "execute_result"
    }
   ],
   "source": [
    "X_train_BoVW.shape"
   ]
  },
  {
   "cell_type": "code",
   "execution_count": 19,
   "metadata": {},
   "outputs": [
    {
     "data": {
      "text/plain": [
       "(2397, 50)"
      ]
     },
     "execution_count": 19,
     "metadata": {},
     "output_type": "execute_result"
    }
   ],
   "source": [
    "X_train_Gabor.shape"
   ]
  },
  {
   "cell_type": "code",
   "execution_count": 20,
   "metadata": {},
   "outputs": [
    {
     "data": {
      "text/plain": [
       "(2397, 50)"
      ]
     },
     "execution_count": 20,
     "metadata": {},
     "output_type": "execute_result"
    }
   ],
   "source": [
    "X_train_Laws.shape"
   ]
  },
  {
   "cell_type": "code",
   "execution_count": 22,
   "metadata": {},
   "outputs": [],
   "source": [
    "# Ensure y_train is a 2D column vector\n",
    "y_train = y_train.reshape(-1, 1)\n",
    "\n",
    "# Combine the arrays\n",
    "combined_array = np.hstack((X_train_reduced, y_train))\n",
    "\n",
    "# Save the combined array to a file\n",
    "np.savetxt(\"Final_features_training.csv\", combined_array, delimiter=\",\", fmt='%f')"
   ]
  },
  {
   "cell_type": "code",
   "execution_count": 23,
   "metadata": {},
   "outputs": [],
   "source": [
    "# Ensure y_train is a 2D column vector\n",
    "y_val = y_val.reshape(-1, 1)\n",
    "\n",
    "# Combine the arrays\n",
    "combined_array = np.hstack((X_val_reduced, y_val))\n",
    "\n",
    "# Save the combined array to a file\n",
    "np.savetxt(\"Final_features_validation.csv\", combined_array, delimiter=\",\", fmt='%f')"
   ]
  },
  {
   "cell_type": "code",
   "execution_count": null,
   "metadata": {},
   "outputs": [],
   "source": []
  }
 ],
 "metadata": {
  "kernelspec": {
   "display_name": "base",
   "language": "python",
   "name": "python3"
  },
  "language_info": {
   "codemirror_mode": {
    "name": "ipython",
    "version": 3
   },
   "file_extension": ".py",
   "mimetype": "text/x-python",
   "name": "python",
   "nbconvert_exporter": "python",
   "pygments_lexer": "ipython3",
   "version": "3.11.5"
  }
 },
 "nbformat": 4,
 "nbformat_minor": 2
}
