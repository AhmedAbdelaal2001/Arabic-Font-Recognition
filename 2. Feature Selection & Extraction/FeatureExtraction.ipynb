{
 "cells": [
  {
   "cell_type": "code",
   "execution_count": 10,
   "metadata": {},
   "outputs": [],
   "source": [
    "import numpy as np\n",
    "import pandas as pd\n",
    "from sklearn.linear_model import LogisticRegression\n",
    "from sklearn.discriminant_analysis import LinearDiscriminantAnalysis, QuadraticDiscriminantAnalysis\n",
    "from sklearn.tree import DecisionTreeClassifier\n",
    "from sklearn import svm\n",
    "from sklearn.metrics import classification_report, accuracy_score\n",
    "from sklearn.preprocessing import MinMaxScaler\n",
    "from sklearn.feature_selection import SequentialFeatureSelector\n",
    "from sklearn.metrics import accuracy_score\n",
    "from mlxtend.feature_selection import SequentialFeatureSelector as SFS\n",
    "from mlxtend.feature_selection import SequentialFeatureSelector as SBS"
   ]
  },
  {
   "cell_type": "code",
   "execution_count": 11,
   "metadata": {},
   "outputs": [],
   "source": [
    "# Load the data from the file, assuming no missing values but using genfromtxt for its flexibility\n",
    "data = np.genfromtxt(\"BoVW_features_training.csv\", delimiter=\",\")\n",
    "\n",
    "# Splitting into features and target variable\n",
    "X_train_BoVW = data[:, :-1]\n",
    "y_train_BoVW = data[:, -1]"
   ]
  },
  {
   "cell_type": "code",
   "execution_count": 12,
   "metadata": {},
   "outputs": [],
   "source": [
    "# Load the data from the file, assuming no missing values but using genfromtxt for its flexibility\n",
    "data = np.genfromtxt(\"BoVW_features_validation.csv\", delimiter=\",\")\n",
    "\n",
    "# Splitting into features and target variable\n",
    "X_val_BoVW = data[:, :-1]\n",
    "y_val_BoVW = data[:, -1]"
   ]
  },
  {
   "cell_type": "code",
   "execution_count": 13,
   "metadata": {},
   "outputs": [],
   "source": [
    "# Load the data from the file, assuming no missing values but using genfromtxt for its flexibility\n",
    "data = np.genfromtxt(\"Gabor_features_training.csv\", delimiter=\",\")\n",
    "\n",
    "# Splitting into features and target variable\n",
    "X_train_Gabor = data[:, :-1]\n",
    "y_train_Gabor = data[:, -1]"
   ]
  },
  {
   "cell_type": "code",
   "execution_count": 14,
   "metadata": {},
   "outputs": [],
   "source": [
    "# Load the data from the file, assuming no missing values but using genfromtxt for its flexibility\n",
    "data = np.genfromtxt(\"Gabor_features_validation.csv\", delimiter=\",\")\n",
    "\n",
    "# Splitting into features and target variable\n",
    "X_val_Gabor = data[:, :-1]\n",
    "y_val_Gabor = data[:, -1]"
   ]
  },
  {
   "cell_type": "code",
   "execution_count": null,
   "metadata": {},
   "outputs": [],
   "source": [
    "# Load the data from the file, assuming no missing values but using genfromtxt for its flexibility\n",
    "data = np.genfromtxt(\"Laws_features_training.csv\", delimiter=\",\")\n",
    "\n",
    "# Splitting into features and target variable\n",
    "X_train_Laws = data[:, :-1]\n",
    "y_train_Laws = data[:, -1]"
   ]
  },
  {
   "cell_type": "code",
   "execution_count": null,
   "metadata": {},
   "outputs": [],
   "source": [
    "# Load the data from the file, assuming no missing values but using genfromtxt for its flexibility\n",
    "data = np.genfromtxt(\"Laws_features_validation.csv\", delimiter=\",\")\n",
    "\n",
    "# Splitting into features and target variable\n",
    "X_val_Laws = data[:, :-1]\n",
    "y_val_Laws = data[:, -1]"
   ]
  },
  {
   "cell_type": "code",
   "execution_count": 15,
   "metadata": {},
   "outputs": [],
   "source": [
    "# Concatenate the feature vectors horizontally\n",
    "X_train = np.concatenate((X_train_BoVW, X_train_Gabor), axis=1)\n",
    "X_train = np.concatenate((X_train, X_train_Laws), axis=1)\n",
    "y_train = y_train_BoVW \n",
    "scaler = MinMaxScaler()\n",
    "X_train_normalized = scaler.fit_transform(X_train)"
   ]
  },
  {
   "cell_type": "code",
   "execution_count": 16,
   "metadata": {},
   "outputs": [],
   "source": [
    "# Remove highly correlated features\n",
    "def remove_highly_correlated_features(X, threshold=0.95):\n",
    "    corr_matrix = pd.DataFrame(X).corr().abs()\n",
    "    upper = corr_matrix.where(np.triu(np.ones(corr_matrix.shape), k=1).astype(bool))\n",
    "    to_drop = [column for column in upper.columns if any(upper[column] > threshold)]\n",
    "    X_reduced = np.delete(X, to_drop, axis=1)\n",
    "    return X_reduced, to_drop"
   ]
  },
  {
   "cell_type": "code",
   "execution_count": 17,
   "metadata": {},
   "outputs": [],
   "source": [
    "X_train_reduced, dropped_features = remove_highly_correlated_features(X_train_normalized)"
   ]
  },
  {
   "cell_type": "code",
   "execution_count": 18,
   "metadata": {},
   "outputs": [
    {
     "name": "stderr",
     "output_type": "stream",
     "text": [
      "c:\\Users\\Abdelaal\\anaconda3\\Lib\\site-packages\\sklearn\\linear_model\\_logistic.py:460: ConvergenceWarning: lbfgs failed to converge (status=1):\n",
      "STOP: TOTAL NO. of ITERATIONS REACHED LIMIT.\n",
      "\n",
      "Increase the number of iterations (max_iter) or scale the data as shown in:\n",
      "    https://scikit-learn.org/stable/modules/preprocessing.html\n",
      "Please also refer to the documentation for alternative solver options:\n",
      "    https://scikit-learn.org/stable/modules/linear_model.html#logistic-regression\n",
      "  n_iter_i = _check_optimize_result(\n"
     ]
    },
    {
     "name": "stdout",
     "output_type": "stream",
     "text": [
      "Classification Report on Logistic Regression:\n",
      "               precision    recall  f1-score   support\n",
      "\n",
      "         0.0       1.00      0.99      1.00       602\n",
      "         1.0       1.00      1.00      1.00       589\n",
      "         2.0       0.98      0.98      0.98       597\n",
      "         3.0       0.98      0.98      0.98       609\n",
      "\n",
      "    accuracy                           0.99      2397\n",
      "   macro avg       0.99      0.99      0.99      2397\n",
      "weighted avg       0.99      0.99      0.99      2397\n",
      "\n",
      "Classification Report on LDA:\n",
      "               precision    recall  f1-score   support\n",
      "\n",
      "         0.0       0.98      0.99      0.99       602\n",
      "         1.0       1.00      0.99      1.00       589\n",
      "         2.0       0.96      0.99      0.97       597\n",
      "         3.0       0.99      0.96      0.97       609\n",
      "\n",
      "    accuracy                           0.98      2397\n",
      "   macro avg       0.98      0.98      0.98      2397\n",
      "weighted avg       0.98      0.98      0.98      2397\n",
      "\n",
      "Classification Report on QDA:\n",
      "               precision    recall  f1-score   support\n",
      "\n",
      "         0.0       1.00      1.00      1.00       602\n",
      "         1.0       0.99      1.00      1.00       589\n",
      "         2.0       0.99      1.00      0.99       597\n",
      "         3.0       1.00      0.99      1.00       609\n",
      "\n",
      "    accuracy                           1.00      2397\n",
      "   macro avg       1.00      1.00      1.00      2397\n",
      "weighted avg       1.00      1.00      1.00      2397\n",
      "\n",
      "Classification Report on SVM:\n",
      "               precision    recall  f1-score   support\n",
      "\n",
      "         0.0       1.00      1.00      1.00       602\n",
      "         1.0       1.00      1.00      1.00       589\n",
      "         2.0       0.98      0.99      0.98       597\n",
      "         3.0       0.99      0.98      0.98       609\n",
      "\n",
      "    accuracy                           0.99      2397\n",
      "   macro avg       0.99      0.99      0.99      2397\n",
      "weighted avg       0.99      0.99      0.99      2397\n",
      "\n",
      "Classification Report on Decision Tree:\n",
      "               precision    recall  f1-score   support\n",
      "\n",
      "         0.0       1.00      1.00      1.00       602\n",
      "         1.0       1.00      1.00      1.00       589\n",
      "         2.0       1.00      1.00      1.00       597\n",
      "         3.0       1.00      1.00      1.00       609\n",
      "\n",
      "    accuracy                           1.00      2397\n",
      "   macro avg       1.00      1.00      1.00      2397\n",
      "weighted avg       1.00      1.00      1.00      2397\n",
      "\n"
     ]
    }
   ],
   "source": [
    "# Define the classifiers\n",
    "classifiers = {\n",
    "    \"Logistic Regression\": LogisticRegression(),\n",
    "    \"LDA\": LinearDiscriminantAnalysis(),\n",
    "    \"QDA\": QuadraticDiscriminantAnalysis(),\n",
    "    \"SVM\": svm.SVC(kernel='linear'),\n",
    "    \"Decision Tree\": DecisionTreeClassifier()\n",
    "}\n",
    "\n",
    "# Train and test each classifier\n",
    "for name, clf in classifiers.items():\n",
    "    # Train the classifier\n",
    "    clf.fit(X_train, y_train)\n",
    "    \n",
    "    # Predict on the training data\n",
    "    y_train_pred = clf.predict(X_train)\n",
    "    \n",
    "    # Calculate and print the result statistics\n",
    "    print(f\"Classification Report on {name}:\\n\", classification_report(y_train, y_train_pred))"
   ]
  },
  {
   "cell_type": "code",
   "execution_count": 19,
   "metadata": {},
   "outputs": [],
   "source": [
    "# Concatenate the feature vectors horizontally\n",
    "X_val = np.concatenate((X_val_BoVW, X_val_Gabor), axis=1)\n",
    "y_val = y_val_BoVW  # Or y_val_Gabor, since they are identical\n",
    "X_val_normalized = scaler.transform(X_val)\n",
    "X_val_reduced = np.delete(X_val_normalized, dropped_features, axis=1)"
   ]
  },
  {
   "cell_type": "code",
   "execution_count": 20,
   "metadata": {},
   "outputs": [
    {
     "name": "stdout",
     "output_type": "stream",
     "text": [
      "Classification Report on Logistic Regression:\n",
      "               precision    recall  f1-score   support\n",
      "\n",
      "         0.0       0.97      0.97      0.97       190\n",
      "         1.0       1.00      1.00      1.00       201\n",
      "         2.0       0.94      0.95      0.95       212\n",
      "         3.0       0.95      0.93      0.94       197\n",
      "\n",
      "    accuracy                           0.96       800\n",
      "   macro avg       0.97      0.97      0.97       800\n",
      "weighted avg       0.96      0.96      0.96       800\n",
      "\n",
      "Classification Report on LDA:\n",
      "               precision    recall  f1-score   support\n",
      "\n",
      "         0.0       0.98      0.98      0.98       190\n",
      "         1.0       1.00      1.00      1.00       201\n",
      "         2.0       0.93      0.97      0.95       212\n",
      "         3.0       0.97      0.92      0.95       197\n",
      "\n",
      "    accuracy                           0.97       800\n",
      "   macro avg       0.97      0.97      0.97       800\n",
      "weighted avg       0.97      0.97      0.97       800\n",
      "\n",
      "Classification Report on QDA:\n",
      "               precision    recall  f1-score   support\n",
      "\n",
      "         0.0       0.98      0.97      0.98       190\n",
      "         1.0       0.98      1.00      0.99       201\n",
      "         2.0       0.92      0.98      0.95       212\n",
      "         3.0       0.99      0.90      0.94       197\n",
      "\n",
      "    accuracy                           0.96       800\n",
      "   macro avg       0.97      0.96      0.96       800\n",
      "weighted avg       0.97      0.96      0.96       800\n",
      "\n",
      "Classification Report on SVM:\n",
      "               precision    recall  f1-score   support\n",
      "\n",
      "         0.0       0.97      0.98      0.98       190\n",
      "         1.0       1.00      1.00      1.00       201\n",
      "         2.0       0.93      0.95      0.94       212\n",
      "         3.0       0.94      0.92      0.93       197\n",
      "\n",
      "    accuracy                           0.96       800\n",
      "   macro avg       0.96      0.96      0.96       800\n",
      "weighted avg       0.96      0.96      0.96       800\n",
      "\n",
      "Classification Report on Decision Tree:\n",
      "               precision    recall  f1-score   support\n",
      "\n",
      "         0.0       0.83      0.85      0.84       190\n",
      "         1.0       0.97      0.96      0.97       201\n",
      "         2.0       0.79      0.84      0.82       212\n",
      "         3.0       0.85      0.79      0.82       197\n",
      "\n",
      "    accuracy                           0.86       800\n",
      "   macro avg       0.86      0.86      0.86       800\n",
      "weighted avg       0.86      0.86      0.86       800\n",
      "\n"
     ]
    }
   ],
   "source": [
    "# Train and test each classifier\n",
    "for name, clf in classifiers.items():    \n",
    "    # Predict on the training data\n",
    "    y_val_pred = clf.predict(X_val_reduced)\n",
    "    \n",
    "    # Calculate and print the result statistics\n",
    "    print(f\"Classification Report on {name}:\\n\", classification_report(y_val, y_val_pred))"
   ]
  },
  {
   "cell_type": "code",
   "execution_count": null,
   "metadata": {},
   "outputs": [],
   "source": []
  }
 ],
 "metadata": {
  "kernelspec": {
   "display_name": "base",
   "language": "python",
   "name": "python3"
  },
  "language_info": {
   "codemirror_mode": {
    "name": "ipython",
    "version": 3
   },
   "file_extension": ".py",
   "mimetype": "text/x-python",
   "name": "python",
   "nbconvert_exporter": "python",
   "pygments_lexer": "ipython3",
   "version": "3.11.5"
  }
 },
 "nbformat": 4,
 "nbformat_minor": 2
}
