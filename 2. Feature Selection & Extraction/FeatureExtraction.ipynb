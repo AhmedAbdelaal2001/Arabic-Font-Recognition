{
 "cells": [
  {
   "cell_type": "markdown",
   "metadata": {},
   "source": [
    "# 🔍 Feature Extraction"
   ]
  },
  {
   "cell_type": "markdown",
   "metadata": {},
   "source": [
    "Now comes the heavy lifter of this project; which will extract highly descriptive features from the preprocessed images."
   ]
  },
  {
   "cell_type": "markdown",
   "metadata": {},
   "source": [
    "Let's start by importing the necessary functions and classes"
   ]
  },
  {
   "cell_type": "code",
   "execution_count": 3,
   "metadata": {},
   "outputs": [],
   "source": [
    "import numpy as np\n",
    "import pandas as pd\n",
    "from sklearn.linear_model import LogisticRegression\n",
    "from sklearn.discriminant_analysis import LinearDiscriminantAnalysis, QuadraticDiscriminantAnalysis\n",
    "from sklearn.tree import DecisionTreeClassifier\n",
    "from sklearn import svm\n",
    "from sklearn.metrics import classification_report\n",
    "from sklearn.preprocessing import MinMaxScaler\n",
    "import joblib\n",
    "import pickle\n",
    "\n",
    "from FeatureExtraction import FeatureExtraction\n",
    "from utils import *"
   ]
  },
  {
   "cell_type": "markdown",
   "metadata": {},
   "source": [
    "Load the SIFT + BoVW features extracted before"
   ]
  },
  {
   "cell_type": "code",
   "execution_count": 4,
   "metadata": {},
   "outputs": [],
   "source": [
    "X_train, y_train = load_features_from_file(f\"Saved Features/BoVW_features_training_2.csv\")"
   ]
  },
  {
   "cell_type": "markdown",
   "metadata": {},
   "source": [
    "Now that our training data is ready, let's train a number of random classifiers (without any hyperparameter tuning) and print out their classification reports; to see how good our results really are"
   ]
  },
  {
   "cell_type": "code",
   "execution_count": 5,
   "metadata": {},
   "outputs": [
    {
     "name": "stdout",
     "output_type": "stream",
     "text": [
      "Classification Report on Logistic Regression:\n",
      "               precision    recall  f1-score   support\n",
      "\n",
      "         0.0       0.99      0.94      0.97       575\n",
      "         1.0       0.97      0.99      0.98       605\n",
      "         2.0       0.86      0.99      0.92       621\n",
      "         3.0       0.99      0.86      0.92       597\n",
      "\n",
      "    accuracy                           0.95      2398\n",
      "   macro avg       0.95      0.95      0.95      2398\n",
      "weighted avg       0.95      0.95      0.95      2398\n",
      "\n",
      "Classification Report on LDA:\n",
      "               precision    recall  f1-score   support\n",
      "\n",
      "         0.0       1.00      1.00      1.00       575\n",
      "         1.0       1.00      1.00      1.00       605\n",
      "         2.0       0.99      1.00      1.00       621\n",
      "         3.0       1.00      0.99      1.00       597\n",
      "\n",
      "    accuracy                           1.00      2398\n",
      "   macro avg       1.00      1.00      1.00      2398\n",
      "weighted avg       1.00      1.00      1.00      2398\n",
      "\n"
     ]
    },
    {
     "name": "stderr",
     "output_type": "stream",
     "text": [
      "c:\\Users\\Abdelaal\\anaconda3\\Lib\\site-packages\\sklearn\\discriminant_analysis.py:935: UserWarning: Variables are collinear\n",
      "  warnings.warn(\"Variables are collinear\")\n"
     ]
    },
    {
     "name": "stdout",
     "output_type": "stream",
     "text": [
      "Classification Report on QDA:\n",
      "               precision    recall  f1-score   support\n",
      "\n",
      "         0.0       1.00      1.00      1.00       575\n",
      "         1.0       1.00      1.00      1.00       605\n",
      "         2.0       1.00      1.00      1.00       621\n",
      "         3.0       1.00      1.00      1.00       597\n",
      "\n",
      "    accuracy                           1.00      2398\n",
      "   macro avg       1.00      1.00      1.00      2398\n",
      "weighted avg       1.00      1.00      1.00      2398\n",
      "\n",
      "Classification Report on SVM:\n",
      "               precision    recall  f1-score   support\n",
      "\n",
      "         0.0       1.00      1.00      1.00       575\n",
      "         1.0       1.00      1.00      1.00       605\n",
      "         2.0       0.99      1.00      1.00       621\n",
      "         3.0       1.00      0.99      1.00       597\n",
      "\n",
      "    accuracy                           1.00      2398\n",
      "   macro avg       1.00      1.00      1.00      2398\n",
      "weighted avg       1.00      1.00      1.00      2398\n",
      "\n",
      "Classification Report on Decision Tree:\n",
      "               precision    recall  f1-score   support\n",
      "\n",
      "         0.0       1.00      1.00      1.00       575\n",
      "         1.0       1.00      1.00      1.00       605\n",
      "         2.0       1.00      1.00      1.00       621\n",
      "         3.0       1.00      1.00      1.00       597\n",
      "\n",
      "    accuracy                           1.00      2398\n",
      "   macro avg       1.00      1.00      1.00      2398\n",
      "weighted avg       1.00      1.00      1.00      2398\n",
      "\n"
     ]
    }
   ],
   "source": [
    "# Define the classifiers\n",
    "classifiers = {\n",
    "    \"Logistic Regression\": LogisticRegression(),\n",
    "    \"LDA\": LinearDiscriminantAnalysis(),\n",
    "    \"QDA\": QuadraticDiscriminantAnalysis(),\n",
    "    \"SVM\": svm.SVC(),\n",
    "    \"Decision Tree\": DecisionTreeClassifier()\n",
    "}\n",
    "\n",
    "# Train and test each classifier\n",
    "for name, clf in classifiers.items():\n",
    "    # Train the classifier\n",
    "    clf.fit(X_train, y_train)\n",
    "    \n",
    "    # Predict on the training data\n",
    "    y_train_pred = clf.predict(X_train)\n",
    "    \n",
    "    # Calculate and print the result statistics\n",
    "    print(f\"Classification Report on {name}:\\n\", classification_report(y_train, y_train_pred))"
   ]
  },
  {
   "cell_type": "markdown",
   "metadata": {},
   "source": [
    "Quite an amazing job on the training set!\n",
    "It's not fair game yet though; we still need to check whether overfitting has occured or not. To that extent, let's evaluate on the validation set"
   ]
  },
  {
   "cell_type": "markdown",
   "metadata": {},
   "source": [
    "Load the features of the validation data"
   ]
  },
  {
   "cell_type": "code",
   "execution_count": 6,
   "metadata": {},
   "outputs": [],
   "source": [
    "X_val, y_val = load_features_from_file(f\"Saved Features/BoVW_features_validation_2.csv\")"
   ]
  },
  {
   "cell_type": "markdown",
   "metadata": {},
   "source": [
    "### 🏛 Judgement Time"
   ]
  },
  {
   "cell_type": "code",
   "execution_count": 7,
   "metadata": {},
   "outputs": [
    {
     "name": "stdout",
     "output_type": "stream",
     "text": [
      "Classification Report on Logistic Regression:\n",
      "               precision    recall  f1-score   support\n",
      "\n",
      "         0.0       0.99      0.93      0.96       225\n",
      "         1.0       0.96      0.98      0.97       193\n",
      "         2.0       0.83      0.99      0.90       179\n",
      "         3.0       0.99      0.87      0.93       203\n",
      "\n",
      "    accuracy                           0.94       800\n",
      "   macro avg       0.94      0.94      0.94       800\n",
      "weighted avg       0.95      0.94      0.94       800\n",
      "\n",
      "Classification Report on LDA:\n",
      "               precision    recall  f1-score   support\n",
      "\n",
      "         0.0       1.00      0.99      0.99       225\n",
      "         1.0       1.00      1.00      1.00       193\n",
      "         2.0       0.97      0.99      0.98       179\n",
      "         3.0       1.00      0.99      1.00       203\n",
      "\n",
      "    accuracy                           0.99       800\n",
      "   macro avg       0.99      0.99      0.99       800\n",
      "weighted avg       0.99      0.99      0.99       800\n",
      "\n",
      "Classification Report on QDA:\n",
      "               precision    recall  f1-score   support\n",
      "\n",
      "         0.0       1.00      0.99      0.99       225\n",
      "         1.0       1.00      1.00      1.00       193\n",
      "         2.0       0.95      1.00      0.97       179\n",
      "         3.0       1.00      0.97      0.98       203\n",
      "\n",
      "    accuracy                           0.99       800\n",
      "   macro avg       0.99      0.99      0.99       800\n",
      "weighted avg       0.99      0.99      0.99       800\n",
      "\n",
      "Classification Report on SVM:\n",
      "               precision    recall  f1-score   support\n",
      "\n",
      "         0.0       1.00      1.00      1.00       225\n",
      "         1.0       1.00      1.00      1.00       193\n",
      "         2.0       0.98      1.00      0.99       179\n",
      "         3.0       1.00      0.99      0.99       203\n",
      "\n",
      "    accuracy                           1.00       800\n",
      "   macro avg       1.00      1.00      1.00       800\n",
      "weighted avg       1.00      1.00      1.00       800\n",
      "\n",
      "Classification Report on Decision Tree:\n",
      "               precision    recall  f1-score   support\n",
      "\n",
      "         0.0       0.98      0.93      0.95       225\n",
      "         1.0       0.96      0.99      0.98       193\n",
      "         2.0       0.89      0.92      0.90       179\n",
      "         3.0       0.93      0.92      0.93       203\n",
      "\n",
      "    accuracy                           0.94       800\n",
      "   macro avg       0.94      0.94      0.94       800\n",
      "weighted avg       0.94      0.94      0.94       800\n",
      "\n"
     ]
    }
   ],
   "source": [
    "# Train and test each classifier\n",
    "for name, clf in classifiers.items():    \n",
    "    # Predict on the training data\n",
    "    y_val_pred = clf.predict(X_val)\n",
    "    \n",
    "    # Calculate and print the result statistics\n",
    "    print(f\"Classification Report on {name}:\\n\", classification_report(y_val, y_val_pred))"
   ]
  },
  {
   "cell_type": "markdown",
   "metadata": {},
   "source": [
    "<img src=\"https://media1.tenor.com/m/QxqYH15_UxYAAAAd/wow-omg.gif\" width=\"250\">"
   ]
  },
  {
   "cell_type": "markdown",
   "metadata": {},
   "source": [
    "Look at this! Even before any hyperparameter tuning, we already have an SVM model that has achieved on accuracy of approximately 100%!!!\n",
    "There is still room for improvement though, since the f1-scores on the final 2 classes are not perfect; there are some very rare incorrect classifications. They shall be addressed in the next folder"
   ]
  },
  {
   "cell_type": "markdown",
   "metadata": {},
   "source": [
    "<div align=\"center\">\n",
    "    <img src=\"https://i.imgur.com/LMiA2O5.gif\" width=800/>\n",
    "</div>"
   ]
  },
  {
   "cell_type": "markdown",
   "metadata": {},
   "source": [
    "### ❓ Question: Can you guess, from these results, which model we shall try first in the \"Model Selection & Training\" phase?"
   ]
  },
  {
   "cell_type": "markdown",
   "metadata": {},
   "source": []
  }
 ],
 "metadata": {
  "kernelspec": {
   "display_name": "base",
   "language": "python",
   "name": "python3"
  },
  "language_info": {
   "codemirror_mode": {
    "name": "ipython",
    "version": 3
   },
   "file_extension": ".py",
   "mimetype": "text/x-python",
   "name": "python",
   "nbconvert_exporter": "python",
   "pygments_lexer": "ipython3",
   "version": "3.11.5"
  }
 },
 "nbformat": 4,
 "nbformat_minor": 2
}
