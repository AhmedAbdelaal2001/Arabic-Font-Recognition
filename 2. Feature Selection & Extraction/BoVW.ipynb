{
 "cells": [
  {
   "cell_type": "code",
   "execution_count": 1,
   "metadata": {},
   "outputs": [],
   "source": [
    "import numpy as np\n",
    "from sklearn.cluster import KMeans\n",
    "from sklearn.model_selection import train_test_split\n",
    "from sklearn import svm\n",
    "from sklearn.metrics import classification_report\n",
    "from sklearn.linear_model import LogisticRegression\n",
    "from sklearn.discriminant_analysis import LinearDiscriminantAnalysis, QuadraticDiscriminantAnalysis\n",
    "from sklearn.tree import DecisionTreeClassifier\n",
    "\n",
    "from BoVW import BoVW\n",
    "from utils import read_processed_data"
   ]
  },
  {
   "cell_type": "code",
   "execution_count": 2,
   "metadata": {},
   "outputs": [
    {
     "name": "stdout",
     "output_type": "stream",
     "text": [
      "Training set size: 2397\n",
      "Validation set size: 800\n"
     ]
    }
   ],
   "source": [
    "data, labels = read_processed_data('../Preprocessed Dataset')\n",
    "\n",
    "# Split the data using sklearn's train_test_split\n",
    "X_train, X_test, y_train, y_test = train_test_split(data, labels, test_size=0.2, random_state=42)\n",
    "data = 1\n",
    "labels = 1\n",
    "X_test = 1\n",
    "y_test = 1\n",
    "X_train, X_val, y_train, y_val = train_test_split(X_train, y_train, test_size=0.25, random_state=42)\n",
    "\n",
    "# Check the size of the training and test sets\n",
    "print(f\"Training set size: {len(X_train)}\")\n",
    "print(f\"Validation set size: {len(X_val)}\")"
   ]
  },
  {
   "cell_type": "code",
   "execution_count": 3,
   "metadata": {},
   "outputs": [],
   "source": [
    "# Load the data from the file, assuming no missing values but using genfromtxt for its flexibility\n",
    "data = np.genfromtxt(\"BoVW_features_training.csv\", delimiter=\",\")\n",
    "\n",
    "# Splitting into features and target variable\n",
    "X_train_loaded = data[:, :-1]\n",
    "y_train_loaded = data[:, -1]"
   ]
  },
  {
   "cell_type": "code",
   "execution_count": 4,
   "metadata": {},
   "outputs": [],
   "source": [
    "# Load the data from the file, assuming no missing values but using genfromtxt for its flexibility\n",
    "data = np.genfromtxt(\"BoVW_features_validation.csv\", delimiter=\",\")\n",
    "\n",
    "# Splitting into features and target variable\n",
    "X_val_loaded = data[:, :-1]\n",
    "y_val_loaded = data[:, -1]"
   ]
  },
  {
   "cell_type": "code",
   "execution_count": 5,
   "metadata": {},
   "outputs": [
    {
     "data": {
      "text/plain": [
       "True"
      ]
     },
     "execution_count": 5,
     "metadata": {},
     "output_type": "execute_result"
    }
   ],
   "source": [
    "np.all(y_train == y_train_loaded)"
   ]
  },
  {
   "cell_type": "code",
   "execution_count": 6,
   "metadata": {},
   "outputs": [
    {
     "data": {
      "text/plain": [
       "True"
      ]
     },
     "execution_count": 6,
     "metadata": {},
     "output_type": "execute_result"
    }
   ],
   "source": [
    "np.all(y_val == y_val_loaded)"
   ]
  },
  {
   "cell_type": "code",
   "execution_count": 7,
   "metadata": {},
   "outputs": [
    {
     "data": {
      "text/plain": [
       "(2397, 112)"
      ]
     },
     "execution_count": 7,
     "metadata": {},
     "output_type": "execute_result"
    }
   ],
   "source": [
    "BoVW_extractor = BoVW()\n",
    "X_train, kmeans = BoVW_extractor.extract_BoVW(X_train)\n",
    "X_train.shape"
   ]
  },
  {
   "cell_type": "code",
   "execution_count": 8,
   "metadata": {},
   "outputs": [
    {
     "name": "stdout",
     "output_type": "stream",
     "text": [
      "Classification Report on Logistic Regression:\n",
      "               precision    recall  f1-score   support\n",
      "\n",
      "           0       0.96      0.95      0.96       602\n",
      "           1       0.96      0.99      0.97       589\n",
      "           2       0.89      0.90      0.90       597\n",
      "           3       0.92      0.89      0.90       609\n",
      "\n",
      "    accuracy                           0.93      2397\n",
      "   macro avg       0.93      0.93      0.93      2397\n",
      "weighted avg       0.93      0.93      0.93      2397\n",
      "\n",
      "Classification Report on LDA:\n",
      "               precision    recall  f1-score   support\n",
      "\n",
      "           0       0.98      0.99      0.99       602\n",
      "           1       1.00      0.99      0.99       589\n",
      "           2       0.96      0.98      0.97       597\n",
      "           3       0.99      0.96      0.97       609\n",
      "\n",
      "    accuracy                           0.98      2397\n",
      "   macro avg       0.98      0.98      0.98      2397\n",
      "weighted avg       0.98      0.98      0.98      2397\n",
      "\n",
      "Classification Report on QDA:\n",
      "               precision    recall  f1-score   support\n",
      "\n",
      "           0       1.00      1.00      1.00       602\n",
      "           1       1.00      1.00      1.00       589\n",
      "           2       0.99      1.00      1.00       597\n",
      "           3       1.00      0.99      1.00       609\n",
      "\n",
      "    accuracy                           1.00      2397\n",
      "   macro avg       1.00      1.00      1.00      2397\n",
      "weighted avg       1.00      1.00      1.00      2397\n",
      "\n"
     ]
    },
    {
     "name": "stderr",
     "output_type": "stream",
     "text": [
      "c:\\Users\\Abdelaal\\anaconda3\\Lib\\site-packages\\sklearn\\discriminant_analysis.py:935: UserWarning: Variables are collinear\n",
      "  warnings.warn(\"Variables are collinear\")\n"
     ]
    },
    {
     "name": "stdout",
     "output_type": "stream",
     "text": [
      "Classification Report on SVM:\n",
      "               precision    recall  f1-score   support\n",
      "\n",
      "           0       0.94      0.98      0.96       602\n",
      "           1       0.99      0.96      0.98       589\n",
      "           2       0.75      0.98      0.85       597\n",
      "           3       0.99      0.68      0.81       609\n",
      "\n",
      "    accuracy                           0.90      2397\n",
      "   macro avg       0.92      0.90      0.90      2397\n",
      "weighted avg       0.92      0.90      0.90      2397\n",
      "\n",
      "Classification Report on Decision Tree:\n",
      "               precision    recall  f1-score   support\n",
      "\n",
      "           0       1.00      1.00      1.00       602\n",
      "           1       1.00      1.00      1.00       589\n",
      "           2       1.00      1.00      1.00       597\n",
      "           3       1.00      1.00      1.00       609\n",
      "\n",
      "    accuracy                           1.00      2397\n",
      "   macro avg       1.00      1.00      1.00      2397\n",
      "weighted avg       1.00      1.00      1.00      2397\n",
      "\n"
     ]
    }
   ],
   "source": [
    "# Define the classifiers\n",
    "classifiers = {\n",
    "    \"Logistic Regression\": LogisticRegression(),\n",
    "    \"LDA\": LinearDiscriminantAnalysis(),\n",
    "    \"QDA\": QuadraticDiscriminantAnalysis(),\n",
    "    \"SVM\": svm.SVC(kernel='linear'),\n",
    "    \"Decision Tree\": DecisionTreeClassifier()\n",
    "}\n",
    "\n",
    "# Train and test each classifier\n",
    "for name, clf in classifiers.items():\n",
    "    # Train the classifier\n",
    "    clf.fit(X_train, y_train)\n",
    "    \n",
    "    # Predict on the training data\n",
    "    y_train_pred = clf.predict(X_train)\n",
    "    \n",
    "    # Calculate and print the result statistics\n",
    "    print(f\"Classification Report on {name}:\\n\", classification_report(y_train, y_train_pred))"
   ]
  },
  {
   "cell_type": "code",
   "execution_count": 9,
   "metadata": {},
   "outputs": [
    {
     "data": {
      "text/plain": [
       "(800, 112)"
      ]
     },
     "execution_count": 9,
     "metadata": {},
     "output_type": "execute_result"
    }
   ],
   "source": [
    "BoVW_extractor = BoVW()\n",
    "X_val, _ = BoVW_extractor.extract_BoVW(data=X_val, kmeans=kmeans)\n",
    "X_val.shape"
   ]
  },
  {
   "cell_type": "code",
   "execution_count": 10,
   "metadata": {},
   "outputs": [
    {
     "name": "stdout",
     "output_type": "stream",
     "text": [
      "Classification Report on Logistic Regression:\n",
      "               precision    recall  f1-score   support\n",
      "\n",
      "           0       0.95      0.91      0.93       190\n",
      "           1       0.93      1.00      0.96       201\n",
      "           2       0.88      0.90      0.89       212\n",
      "           3       0.91      0.86      0.89       197\n",
      "\n",
      "    accuracy                           0.92       800\n",
      "   macro avg       0.92      0.92      0.92       800\n",
      "weighted avg       0.92      0.92      0.92       800\n",
      "\n",
      "Classification Report on LDA:\n",
      "               precision    recall  f1-score   support\n",
      "\n",
      "           0       0.96      0.98      0.97       190\n",
      "           1       1.00      1.00      1.00       201\n",
      "           2       0.93      0.95      0.94       212\n",
      "           3       0.96      0.92      0.94       197\n",
      "\n",
      "    accuracy                           0.96       800\n",
      "   macro avg       0.96      0.96      0.96       800\n",
      "weighted avg       0.96      0.96      0.96       800\n",
      "\n",
      "Classification Report on QDA:\n",
      "               precision    recall  f1-score   support\n",
      "\n",
      "           0       0.98      0.97      0.98       190\n",
      "           1       0.99      1.00      0.99       201\n",
      "           2       0.92      0.97      0.94       212\n",
      "           3       0.97      0.91      0.94       197\n",
      "\n",
      "    accuracy                           0.96       800\n",
      "   macro avg       0.96      0.96      0.96       800\n",
      "weighted avg       0.96      0.96      0.96       800\n",
      "\n",
      "Classification Report on SVM:\n",
      "               precision    recall  f1-score   support\n",
      "\n",
      "           0       0.92      0.96      0.94       190\n",
      "           1       0.99      0.97      0.98       201\n",
      "           2       0.73      0.96      0.83       212\n",
      "           3       0.96      0.61      0.75       197\n",
      "\n",
      "    accuracy                           0.88       800\n",
      "   macro avg       0.90      0.87      0.87       800\n",
      "weighted avg       0.90      0.88      0.87       800\n",
      "\n",
      "Classification Report on Decision Tree:\n",
      "               precision    recall  f1-score   support\n",
      "\n",
      "           0       0.82      0.83      0.82       190\n",
      "           1       0.96      0.96      0.96       201\n",
      "           2       0.79      0.82      0.81       212\n",
      "           3       0.81      0.78      0.80       197\n",
      "\n",
      "    accuracy                           0.85       800\n",
      "   macro avg       0.85      0.85      0.85       800\n",
      "weighted avg       0.85      0.85      0.85       800\n",
      "\n"
     ]
    }
   ],
   "source": [
    "# Train and test each classifier\n",
    "for name, clf in classifiers.items():    \n",
    "    # Predict on the training data\n",
    "    y_val_pred = clf.predict(X_val)\n",
    "    \n",
    "    # Calculate and print the result statistics\n",
    "    print(f\"Classification Report on {name}:\\n\", classification_report(y_val, y_val_pred))"
   ]
  },
  {
   "cell_type": "code",
   "execution_count": 11,
   "metadata": {},
   "outputs": [],
   "source": [
    "# Ensure y_train is a 2D column vector\n",
    "y_train = y_train.reshape(-1, 1)\n",
    "\n",
    "# Combine the arrays\n",
    "combined_array = np.hstack((X_train, y_train))\n",
    "\n",
    "# Save the combined array to a file\n",
    "np.savetxt(\"BoVW_features_training.csv\", combined_array, delimiter=\",\", fmt='%f')"
   ]
  },
  {
   "cell_type": "code",
   "execution_count": 12,
   "metadata": {},
   "outputs": [],
   "source": [
    "# Ensure y_train is a 2D column vector\n",
    "y_val = y_val.reshape(-1, 1)\n",
    "\n",
    "# Combine the arrays\n",
    "combined_array = np.hstack((X_val, y_val))\n",
    "\n",
    "# Save the combined array to a file\n",
    "np.savetxt(\"BoVW_features_validation.csv\", combined_array, delimiter=\",\", fmt='%f')"
   ]
  },
  {
   "cell_type": "code",
   "execution_count": 13,
   "metadata": {},
   "outputs": [],
   "source": [
    "# Load the data from the file, assuming no missing values but using genfromtxt for its flexibility\n",
    "data = np.genfromtxt(\"BoVW_features_training.csv\", delimiter=\",\")\n",
    "\n",
    "# Splitting into features and target variable\n",
    "X_train_loaded = data[:, :-1]\n",
    "y_train_loaded = data[:, -1]"
   ]
  },
  {
   "cell_type": "code",
   "execution_count": 14,
   "metadata": {},
   "outputs": [],
   "source": [
    "# Load the data from the file, assuming no missing values but using genfromtxt for its flexibility\n",
    "data = np.genfromtxt(\"BoVW_features_validation.csv\", delimiter=\",\")\n",
    "\n",
    "# Splitting into features and target variable\n",
    "X_val_loaded = data[:, :-1]\n",
    "y_val_loaded = data[:, -1]"
   ]
  },
  {
   "cell_type": "code",
   "execution_count": 15,
   "metadata": {},
   "outputs": [
    {
     "data": {
      "text/plain": [
       "True"
      ]
     },
     "execution_count": 15,
     "metadata": {},
     "output_type": "execute_result"
    }
   ],
   "source": [
    "np.all(y_train.reshape(-1) == y_train_loaded)"
   ]
  },
  {
   "cell_type": "code",
   "execution_count": 16,
   "metadata": {},
   "outputs": [
    {
     "data": {
      "text/plain": [
       "True"
      ]
     },
     "execution_count": 16,
     "metadata": {},
     "output_type": "execute_result"
    }
   ],
   "source": [
    "np.all(y_val.reshape(-1) == y_val_loaded)"
   ]
  }
 ],
 "metadata": {
  "kernelspec": {
   "display_name": "base",
   "language": "python",
   "name": "python3"
  },
  "language_info": {
   "codemirror_mode": {
    "name": "ipython",
    "version": 3
   },
   "file_extension": ".py",
   "mimetype": "text/x-python",
   "name": "python",
   "nbconvert_exporter": "python",
   "pygments_lexer": "ipython3",
   "version": "3.11.5"
  }
 },
 "nbformat": 4,
 "nbformat_minor": 2
}
