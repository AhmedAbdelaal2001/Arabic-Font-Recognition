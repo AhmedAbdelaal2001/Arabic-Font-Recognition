{
 "cells": [
  {
   "cell_type": "code",
   "execution_count": 1,
   "metadata": {},
   "outputs": [],
   "source": [
    "import numpy as np\n",
    "from sklearn.model_selection import train_test_split\n",
    "from sklearn.linear_model import LogisticRegression\n",
    "from sklearn.discriminant_analysis import LinearDiscriminantAnalysis, QuadraticDiscriminantAnalysis\n",
    "from sklearn import svm\n",
    "from sklearn.tree import DecisionTreeClassifier\n",
    "from sklearn.metrics import accuracy_score\n",
    "\n",
    "from GaborExtractor import GaborExtractor\n",
    "from utils import read_processed_data"
   ]
  },
  {
   "cell_type": "code",
   "execution_count": 2,
   "metadata": {},
   "outputs": [
    {
     "name": "stdout",
     "output_type": "stream",
     "text": [
      "Training set size: 240\n",
      "Validation set size: 80\n"
     ]
    }
   ],
   "source": [
    "data, labels = read_processed_data('../Preprocessed Dataset', 200)\n",
    "\n",
    "# Split the data using sklearn's train_test_split\n",
    "X_train, X_test, y_train, y_test = train_test_split(data, labels, test_size=0.2, random_state=42)\n",
    "data = 1\n",
    "labels = 1\n",
    "X_test = 1\n",
    "y_test = 1\n",
    "X_train, X_val, y_train, y_val = train_test_split(X_train, y_train, test_size=0.25, random_state=42)\n",
    "\n",
    "# Check the size of the training and test sets\n",
    "print(f\"Training set size: {len(X_train)}\")\n",
    "print(f\"Validation set size: {len(X_val)}\")"
   ]
  },
  {
   "cell_type": "code",
   "execution_count": 3,
   "metadata": {},
   "outputs": [],
   "source": [
    "# Define parameters\n",
    "orientations = [k * np.pi / 16 for k in range(1, 9)]\n",
    "frequencies = np.linspace(0.1, 0.5, 5)\n",
    "sigmas = np.linspace(0.5, 5, 5)\n",
    "\n",
    "# Generate and apply Gabor filters\n",
    "gabor_extractor_training = GaborExtractor(X_train)\n",
    "gabor_extractor_training.build_gabor_filters(orientations, frequencies, sigmas)\n",
    "gabor_extractor_training.apply_gabor_filters()\n",
    "gabor_extractor_training.prepare_features()\n",
    "X_train = gabor_extractor_training.feature_vectors\n",
    "\n",
    "gabor_extractor_validation = GaborExtractor(X_val)\n",
    "gabor_extractor_validation.build_gabor_filters(orientations, frequencies, sigmas)\n",
    "gabor_extractor_validation.apply_gabor_filters()\n",
    "gabor_extractor_validation.prepare_features()\n",
    "X_val = gabor_extractor_validation.feature_vectors"
   ]
  },
  {
   "cell_type": "code",
   "execution_count": 4,
   "metadata": {},
   "outputs": [
    {
     "data": {
      "text/plain": [
       "(240, 82)"
      ]
     },
     "execution_count": 4,
     "metadata": {},
     "output_type": "execute_result"
    }
   ],
   "source": [
    "X_train.shape"
   ]
  },
  {
   "cell_type": "code",
   "execution_count": 5,
   "metadata": {},
   "outputs": [
    {
     "data": {
      "text/plain": [
       "(80, 82)"
      ]
     },
     "execution_count": 5,
     "metadata": {},
     "output_type": "execute_result"
    }
   ],
   "source": [
    "X_val.shape"
   ]
  },
  {
   "cell_type": "code",
   "execution_count": 6,
   "metadata": {},
   "outputs": [
    {
     "name": "stdout",
     "output_type": "stream",
     "text": [
      "Logistic Regression - Training accuracy: 0.59, Validation accuracy: 0.46\n",
      "LDA - Training accuracy: 1.00, Validation accuracy: 0.96\n",
      "QDA - Training accuracy: 1.00, Validation accuracy: 0.59\n",
      "SVM - Training accuracy: 0.48, Validation accuracy: 0.46\n",
      "Decision Tree - Training accuracy: 1.00, Validation accuracy: 0.60\n"
     ]
    },
    {
     "name": "stderr",
     "output_type": "stream",
     "text": [
      "c:\\Users\\Abdelaal\\anaconda3\\Lib\\site-packages\\sklearn\\discriminant_analysis.py:935: UserWarning: Variables are collinear\n",
      "  warnings.warn(\"Variables are collinear\")\n"
     ]
    }
   ],
   "source": [
    "# Define the classifiers\n",
    "classifiers = {\n",
    "    \"Logistic Regression\": LogisticRegression(max_iter=1000),\n",
    "    \"LDA\": LinearDiscriminantAnalysis(),\n",
    "    \"QDA\": QuadraticDiscriminantAnalysis(),\n",
    "    \"SVM\": svm.SVC(kernel='linear'),\n",
    "    \"Decision Tree\": DecisionTreeClassifier()\n",
    "}\n",
    "\n",
    "# Train and test each classifier\n",
    "for name, clf in classifiers.items():\n",
    "    # Train the classifier\n",
    "    clf.fit(X_train, y_train)\n",
    "    \n",
    "    # Predict on the training data\n",
    "    y_train_pred = clf.predict(X_train)\n",
    "    \n",
    "    # Predict on the test data\n",
    "    y_val_pred = clf.predict(X_val)\n",
    "    \n",
    "    # Calculate and print the accuracies\n",
    "    train_accuracy = accuracy_score(y_train, y_train_pred)\n",
    "    test_accuracy = accuracy_score(y_val, y_val_pred)\n",
    "    print(f\"{name} - Training accuracy: {train_accuracy:.2f}, Validation accuracy: {test_accuracy:.2f}\")"
   ]
  }
 ],
 "metadata": {
  "kernelspec": {
   "display_name": "base",
   "language": "python",
   "name": "python3"
  },
  "language_info": {
   "codemirror_mode": {
    "name": "ipython",
    "version": 3
   },
   "file_extension": ".py",
   "mimetype": "text/x-python",
   "name": "python",
   "nbconvert_exporter": "python",
   "pygments_lexer": "ipython3",
   "version": "3.11.5"
  }
 },
 "nbformat": 4,
 "nbformat_minor": 2
}
