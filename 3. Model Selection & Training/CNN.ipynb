{
 "cells": [
  {
   "cell_type": "code",
   "execution_count": 1,
   "metadata": {},
   "outputs": [],
   "source": [
    "import numpy as np\n",
    "import matplotlib.pyplot as plt\n",
    "from sklearn.model_selection import train_test_split\n",
    "import tensorflow as tf  \n",
    "from tensorflow.keras.utils import to_categorical\n",
    "from tensorflow.keras.models import Sequential\n",
    "from tensorflow.keras.layers import (Conv2D, MaxPooling2D, Flatten,\n",
    "                                     Dense, Dropout, BatchNormalization)\n",
    "from tensorflow.keras.mixed_precision import set_global_policy\n",
    "import os\n",
    "from PIL import Image\n"
   ]
  },
  {
   "cell_type": "code",
   "execution_count": 2,
   "metadata": {},
   "outputs": [],
   "source": [
    "tf.config.set_visible_devices([], 'GPU')  # This hides all GPUs from TensorFlow.\n",
    "\n",
    "# Now when you use TensorFlow, it will only use the CPU."
   ]
  },
  {
   "cell_type": "code",
   "execution_count": 3,
   "metadata": {},
   "outputs": [],
   "source": [
    "# tf.keras.backend.clear_session()\n",
    "# set_global_policy('mixed_float16')\n",
    "# gpus = tf.config.experimental.list_physical_devices('GPU')\n",
    "# gpus"
   ]
  },
  {
   "cell_type": "code",
   "execution_count": 4,
   "metadata": {},
   "outputs": [],
   "source": [
    "# gpus = tf.config.experimental.list_physical_devices('GPU')\n",
    "# if gpus:\n",
    "#     try:\n",
    "#         # Restrict TensorFlow to only allocate a specific amount of memory on the first GPU\n",
    "#         tf.config.experimental.set_virtual_device_configuration(\n",
    "#             gpus[0],\n",
    "#             [tf.config.experimental.VirtualDeviceConfiguration(memory_limit=4096)]) # Adjust the memory limit as appropriate\n",
    "#     except RuntimeError as e:\n",
    "#         print(e)"
   ]
  },
  {
   "cell_type": "code",
   "execution_count": 5,
   "metadata": {},
   "outputs": [],
   "source": [
    "import os\n",
    "from PIL import Image\n",
    "import numpy as np\n",
    "\n",
    "# Define the path to the directory containing the folders\n",
    "base_path = '../Preprocessed Dataset'\n",
    "\n",
    "# List the folders in the directory\n",
    "folders = ['IBM Plex Sans Arabic', 'Lemonada', 'Marhey', 'Scheherazade New']\n",
    "\n",
    "# Create a dictionary to hold the labels for each folder\n",
    "labels = {folder: i for i, folder in enumerate(folders)}\n",
    "\n",
    "# Prepare a list to store the image data and labels\n",
    "data = []\n",
    "\n",
    "# Loop through each folder and each image within the folder\n",
    "for folder in folders:\n",
    "    folder_path = os.path.join(base_path, folder)\n",
    "    for filename in os.listdir(folder_path):\n",
    "        if filename.endswith('.jpeg'):  # assuming the images are in PNG format\n",
    "            image_path = os.path.join(folder_path, filename)\n",
    "            # Load the image\n",
    "            image = Image.open(image_path)\n",
    "            # Optionally, convert the image to 'L' to ensure it's in grayscale\n",
    "            if image.mode != 'L':\n",
    "                image = image.convert('L')\n",
    "            # Convert image data to array\n",
    "            image_data = np.array(image)\n",
    "            # Binarize the image data (0 or 1) directly instead of normalization to [0, 1] range\n",
    "            image_data = (image_data > 127).astype(np.int16)  # Assuming binary threshold at the middle (127)\n",
    "            # Append the image data and label to the list\n",
    "            data.append((image_data, labels[folder]))\n",
    "\n",
    "# Now, 'data' contains tuples of (image_data, label) where image_data are integers (0 or 1)\n"
   ]
  },
  {
   "cell_type": "code",
   "execution_count": 6,
   "metadata": {},
   "outputs": [
    {
     "name": "stdout",
     "output_type": "stream",
     "text": [
      "Training set size: 3200\n",
      "Test set size: 800\n"
     ]
    }
   ],
   "source": [
    "# Assuming 'data' is the list that contains all your images and their labels\n",
    "# Separate data into two lists: features and labels\n",
    "data, labels = zip(*data)\n",
    "\n",
    "# Convert these lists to numpy arrays for compatibility with sklearn\n",
    "data = np.array(data)\n",
    "labels = np.array(labels)\n",
    "\n",
    "# Split the data using sklearn's train_test_split\n",
    "X_train, X_test, y_train, y_test = train_test_split(data, labels, test_size=0.2, random_state=42)\n",
    "data = 1\n",
    "labels = 1\n",
    "\n",
    "# Check the size of the training and test sets\n",
    "print(f\"Training set size: {len(X_train)}\")\n",
    "print(f\"Test set size: {len(X_test)}\")"
   ]
  },
  {
   "cell_type": "code",
   "execution_count": 7,
   "metadata": {},
   "outputs": [
    {
     "data": {
      "text/plain": [
       "(1181, 1181)"
      ]
     },
     "execution_count": 7,
     "metadata": {},
     "output_type": "execute_result"
    }
   ],
   "source": [
    "X_train[0].shape"
   ]
  },
  {
   "cell_type": "code",
   "execution_count": 8,
   "metadata": {},
   "outputs": [],
   "source": [
    "model = Sequential([\n",
    "    # First convolution layer with input shape specified as (1181, 1181, 1)\n",
    "    Conv2D(32, (3, 3), activation='relu', input_shape=(1181, 1181, 1)),\n",
    "    MaxPooling2D((2, 2)),\n",
    "    \n",
    "    # Second convolution layer\n",
    "    Conv2D(32, (3, 3), activation='relu'),\n",
    "    MaxPooling2D((2, 2)),\n",
    "    \n",
    "    # Third convolution layer\n",
    "    Conv2D(48, (3, 3), activation='relu'),\n",
    "    MaxPooling2D((2, 2)),\n",
    "    \n",
    "    # Fourth convolution layer\n",
    "    Conv2D(48, (3, 3), activation='relu'),\n",
    "    MaxPooling2D((2, 2)),\n",
    "    \n",
    "    # Flattening the output of the last pooling layer to feed it into the dense layer\n",
    "    Flatten(),\n",
    "    \n",
    "    # Dense layers with dropout for regularization\n",
    "    Dense(256, activation='relu'),\n",
    "    Dropout(0.5),\n",
    "    Dense(128, activation='relu'),\n",
    "    Dropout(0.5),\n",
    "    \n",
    "    # Output layer with softmax activation for multi-class classification\n",
    "    Dense(4, activation='softmax')\n",
    "])\n"
   ]
  },
  {
   "cell_type": "code",
   "execution_count": 9,
   "metadata": {},
   "outputs": [],
   "source": [
    "# Compile the model\n",
    "model.compile(optimizer='adam',\n",
    "              loss='sparse_categorical_crossentropy',\n",
    "              metrics=['accuracy'])\n"
   ]
  },
  {
   "cell_type": "code",
   "execution_count": 10,
   "metadata": {},
   "outputs": [
    {
     "name": "stdout",
     "output_type": "stream",
     "text": [
      "Epoch 1/5\n"
     ]
    },
    {
     "ename": "",
     "evalue": "",
     "output_type": "error",
     "traceback": [
      "\u001b[1;31mThe Kernel crashed while executing code in the current cell or a previous cell. \n",
      "\u001b[1;31mPlease review the code in the cell(s) to identify a possible cause of the failure. \n",
      "\u001b[1;31mClick <a href='https://aka.ms/vscodeJupyterKernelCrash'>here</a> for more info. \n",
      "\u001b[1;31mView Jupyter <a href='command:jupyter.viewOutput'>log</a> for further details."
     ]
    }
   ],
   "source": [
    "# Train the model\n",
    "history = model.fit(X_train[:1000], y_train[:1000], epochs=5)"
   ]
  },
  {
   "cell_type": "code",
   "execution_count": null,
   "metadata": {},
   "outputs": [],
   "source": []
  }
 ],
 "metadata": {
  "kernelspec": {
   "display_name": "py310",
   "language": "python",
   "name": "python3"
  },
  "language_info": {
   "codemirror_mode": {
    "name": "ipython",
    "version": 3
   },
   "file_extension": ".py",
   "mimetype": "text/x-python",
   "name": "python",
   "nbconvert_exporter": "python",
   "pygments_lexer": "ipython3",
   "version": "3.10.13"
  }
 },
 "nbformat": 4,
 "nbformat_minor": 2
}
