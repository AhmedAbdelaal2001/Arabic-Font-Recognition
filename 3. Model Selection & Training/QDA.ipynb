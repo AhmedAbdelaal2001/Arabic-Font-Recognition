{
 "cells": [
  {
   "cell_type": "code",
   "execution_count": 2,
   "metadata": {},
   "outputs": [],
   "source": [
    "import numpy as np\n",
    "import pandas as pd\n",
    "import joblib\n",
    "import pickle\n",
    "from sklearn.preprocessing import MinMaxScaler"
   ]
  },
  {
   "cell_type": "code",
   "execution_count": 3,
   "metadata": {},
   "outputs": [],
   "source": [
    "def load_features_from_file(filepath):\n",
    "    data = np.genfromtxt(filepath, delimiter=\",\")\n",
    "    X = data[:, :-1]\n",
    "    y = data[:, -1]\n",
    "\n",
    "    return (X, y)\n",
    "\n",
    "# Remove highly correlated features\n",
    "def remove_highly_correlated_features(X, threshold=0.95):\n",
    "    corr_matrix = pd.DataFrame(X).corr().abs()\n",
    "    upper = corr_matrix.where(np.triu(np.ones(corr_matrix.shape), k=1).astype(bool))\n",
    "    to_drop = [column for column in upper.columns if any(upper[column] > threshold)]\n",
    "    X_reduced = np.delete(X, to_drop, axis=1)\n",
    "    return X_reduced, to_drop"
   ]
  },
  {
   "cell_type": "code",
   "execution_count": 4,
   "metadata": {},
   "outputs": [],
   "source": [
    "X_train, y_train = load_features_from_file(\"../2. Feature Selection & Extraction/Saved Features/Final_features_training.csv\")\n",
    "X_val, y_val = load_features_from_file(\"../2. Feature Selection & Extraction/Saved Features/Final_features_validation.csv\")"
   ]
  },
  {
   "cell_type": "code",
   "execution_count": 5,
   "metadata": {},
   "outputs": [
    {
     "name": "stdout",
     "output_type": "stream",
     "text": [
      "Validation Accuracy: 0.99\n"
     ]
    }
   ],
   "source": [
    "from sklearn.discriminant_analysis import QuadraticDiscriminantAnalysis\n",
    "from sklearn.model_selection import train_test_split\n",
    "from sklearn.preprocessing import StandardScaler\n",
    "from sklearn.metrics import accuracy_score\n",
    "\n",
    "# Initialize the QDA model\n",
    "qda_model = QuadraticDiscriminantAnalysis()\n",
    "\n",
    "# Train the QDA model\n",
    "qda_model.fit(X_train, y_train)\n",
    "\n",
    "# Make predictions on the validation set\n",
    "y_pred = qda_model.predict(X_val)\n",
    "\n",
    "# Calculate the accuracy\n",
    "accuracy = accuracy_score(y_val, y_pred)\n",
    "print(f'Validation Accuracy: {accuracy:.2f}')\n"
   ]
  },
  {
   "cell_type": "code",
   "execution_count": 6,
   "metadata": {},
   "outputs": [
    {
     "data": {
      "text/plain": [
       "array([3., 0., 0., 1., 1., 2., 3., 2., 0., 0., 2., 0., 1., 2., 1., 0., 2.,\n",
       "       0., 2., 0., 0., 3., 1., 1., 1., 3., 2., 0., 3., 1., 0., 3., 3., 1.,\n",
       "       1., 0., 2., 1., 3., 1., 1., 1., 0., 0., 3., 3., 0., 1., 3., 3., 3.,\n",
       "       3., 1., 2., 0., 2., 1., 1., 3., 1., 3., 1., 1., 0., 3., 2., 2., 3.,\n",
       "       2., 1., 0., 2., 0., 3., 0., 0., 1., 2., 3., 1., 1., 1., 0., 2., 2.,\n",
       "       0., 2., 3., 1., 2., 0., 2., 1., 2., 0., 3., 0., 1., 2., 0., 0., 2.,\n",
       "       1., 3., 0., 0., 3., 1., 2., 3., 1., 3., 0., 1., 0., 0., 0., 2., 1.,\n",
       "       1., 3., 2., 2., 1., 2., 1., 2., 0., 3., 2., 0., 1., 1., 1., 3., 0.,\n",
       "       3., 0., 1., 2., 0., 0., 2., 2., 0., 0., 1., 0., 0., 2., 1., 1., 0.,\n",
       "       0., 3., 0., 2., 2., 0., 3., 0., 2., 0., 1., 3., 1., 2., 0., 0., 2.,\n",
       "       2., 3., 0., 1., 2., 3., 3., 0., 1., 1., 0., 0., 0., 1., 2., 0., 0.,\n",
       "       1., 2., 3., 3., 0., 3., 1., 0., 0., 0., 0., 3., 0., 0., 1., 3., 2.,\n",
       "       3., 2., 2., 3., 0., 0., 0., 3., 0., 0., 2., 0., 3., 1., 0., 3., 1.,\n",
       "       3., 1., 3., 0., 0., 2., 1., 2., 1., 1., 2., 0., 3., 3., 2., 3., 1.,\n",
       "       0., 0., 3., 1., 2., 2., 1., 1., 0., 0., 3., 3., 0., 0., 2., 1., 1.,\n",
       "       2., 0., 0., 1., 2., 2., 1., 1., 3., 1., 1., 1., 3., 3., 0., 1., 0.,\n",
       "       1., 3., 1., 3., 0., 3., 1., 3., 0., 2., 2., 0., 3., 0., 1., 1., 1.,\n",
       "       1., 0., 3., 1., 3., 1., 3., 0., 2., 0., 2., 0., 2., 2., 1., 0., 3.,\n",
       "       0., 0., 1., 0., 1., 2., 2., 1., 2., 2., 3., 2., 0., 2., 3., 2., 0.,\n",
       "       1., 2., 2., 1., 1., 1., 1., 3., 0., 1., 0., 0., 0., 3., 0., 1., 1.,\n",
       "       1., 3., 3., 1., 0., 2., 0., 3., 1., 3., 3., 2., 2., 1., 1., 1., 2.,\n",
       "       2., 1., 0., 2., 2., 0., 0., 2., 1., 2., 2., 1., 3., 0., 3., 0., 0.,\n",
       "       2., 0., 0., 0., 3., 1., 2., 3., 3., 0., 3., 1., 3., 0., 2., 2., 0.,\n",
       "       3., 3., 3., 0., 0., 0., 3., 1., 1., 1., 3., 3., 0., 2., 1., 2., 2.,\n",
       "       2., 0., 2., 1., 3., 3., 1., 1., 0., 0., 3., 2., 2., 3., 2., 2., 2.,\n",
       "       3., 2., 3., 0., 3., 3., 2., 1., 0., 1., 1., 3., 1., 1., 1., 0., 2.,\n",
       "       2., 3., 1., 0., 0., 2., 0., 1., 3., 2., 3., 0., 2., 0., 1., 3., 1.,\n",
       "       1., 0., 3., 3., 1., 1., 0., 0., 0., 0., 1., 3., 0., 0., 3., 3., 3.,\n",
       "       3., 3., 3., 3., 1., 3., 3., 0., 1., 2., 0., 0., 2., 1., 1., 0., 3.,\n",
       "       0., 0., 3., 1., 0., 0., 3., 3., 1., 0., 2., 0., 1., 0., 2., 2., 0.,\n",
       "       0., 3., 0., 2., 0., 2., 3., 2., 3., 0., 3., 3., 2., 2., 0., 2., 2.,\n",
       "       2., 2., 3., 3., 3., 2., 1., 3., 3., 1., 2., 3., 1., 3., 3., 3., 2.,\n",
       "       1., 3., 3., 3., 0., 3., 0., 0., 2., 0., 2., 3., 3., 3., 1., 3., 3.,\n",
       "       2., 1., 1., 1., 2., 2., 0., 2., 2., 3., 2., 0., 2., 2., 0., 0., 2.,\n",
       "       3., 2., 3., 1., 0., 3., 2., 0., 2., 2., 0., 3., 0., 0., 0., 1., 0.,\n",
       "       1., 0., 2., 1., 1., 2., 0., 0., 2., 2., 0., 2., 3., 1., 3., 1., 2.,\n",
       "       2., 0., 0., 3., 2., 3., 3., 0., 3., 0., 3., 0., 3., 1., 1., 0., 3.,\n",
       "       0., 0., 0., 2., 2., 1., 0., 0., 2., 3., 1., 3., 3., 0., 1., 3., 1.,\n",
       "       3., 3., 2., 3., 1., 0., 2., 0., 3., 3., 1., 2., 0., 2., 1., 0., 0.,\n",
       "       2., 2., 0., 0., 2., 1., 3., 1., 1., 2., 3., 2., 0., 0., 0., 2., 0.,\n",
       "       2., 0., 1., 2., 3., 0., 2., 2., 3., 1., 1., 1., 3., 0., 3., 1., 1.,\n",
       "       3., 1., 1., 2., 1., 1., 3., 0., 0., 2., 3., 3., 2., 1., 0., 1., 1.,\n",
       "       2., 0., 3., 3., 0., 2., 0., 2., 1., 0., 0., 0., 1., 0., 3., 2., 3.,\n",
       "       3., 3., 0., 3., 1., 3., 1., 3., 3., 2., 0., 1., 3., 3., 0., 1., 3.,\n",
       "       0., 1., 0., 1., 3., 0., 0., 3., 1., 0., 1., 3., 1., 1., 2., 1., 3.,\n",
       "       3., 2., 3., 0., 2., 3., 3., 1., 1., 2., 2., 3., 0., 0., 3., 3., 3.,\n",
       "       3., 2., 2., 1., 1., 2., 2., 1., 1., 1., 3., 3., 2., 0., 3., 3., 1.,\n",
       "       2.])"
      ]
     },
     "execution_count": 6,
     "metadata": {},
     "output_type": "execute_result"
    }
   ],
   "source": [
    "y_val"
   ]
  },
  {
   "cell_type": "code",
   "execution_count": 8,
   "metadata": {},
   "outputs": [
    {
     "data": {
      "text/plain": [
       "9"
      ]
     },
     "execution_count": 8,
     "metadata": {},
     "output_type": "execute_result"
    }
   ],
   "source": [
    "np.sum(y_pred != y_val)"
   ]
  },
  {
   "cell_type": "code",
   "execution_count": null,
   "metadata": {},
   "outputs": [],
   "source": []
  }
 ],
 "metadata": {
  "kernelspec": {
   "display_name": "base",
   "language": "python",
   "name": "python3"
  },
  "language_info": {
   "codemirror_mode": {
    "name": "ipython",
    "version": 3
   },
   "file_extension": ".py",
   "mimetype": "text/x-python",
   "name": "python",
   "nbconvert_exporter": "python",
   "pygments_lexer": "ipython3",
   "version": "3.11.5"
  }
 },
 "nbformat": 4,
 "nbformat_minor": 2
}
